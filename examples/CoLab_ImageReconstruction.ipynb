{
  "nbformat": 4,
  "nbformat_minor": 0,
  "metadata": {
    "colab": {
      "name": "CoLab_ImageReconstruction.ipynb",
      "version": "0.3.2",
      "provenance": [],
      "collapsed_sections": [],
      "include_colab_link": true
    },
    "kernelspec": {
      "name": "python3",
      "display_name": "Python 3"
    },
    "accelerator": "GPU"
  },
  "cells": [
    {
      "cell_type": "markdown",
      "metadata": {
        "id": "view-in-github",
        "colab_type": "text"
      },
      "source": [
        "<a href=\"https://colab.research.google.com/github/kmjohnson3/sigpy/blob/master/examples/CoLab_ImageReconstruction.ipynb\" target=\"_parent\"><img src=\"https://colab.research.google.com/assets/colab-badge.svg\" alt=\"Open In Colab\"/></a>"
      ]
    },
    {
      "metadata": {
        "id": "tocrM86JPnnv",
        "colab_type": "text"
      },
      "cell_type": "markdown",
      "source": [
        "This code explores a image reconstruction problem using several types of regularization. Specifically, we aim to reconstruct data aquired in the Fourier domain with incomplete sampling.  It uses Jupyter notebooks, which is a web based way to code, predominantly used in Python projects. Each cell can be executed by clicking on the cell and hitting the play buttin in the upper left hand corner. The first cell loads in a set of libraries which we will use. It can be slow due to the need for installing a cupy. **Please set your runtime to GPU (Runtime->Change runtime type->Hardware accelerator )**"
      ]
    },
    {
      "metadata": {
        "id": "-fxH-mpY_72D",
        "colab_type": "code",
        "colab": {}
      },
      "cell_type": "code",
      "source": [
        "# Utilities\n",
        "import numpy as np # array library\n",
        "import math  # math used to define pi\n",
        "import h5py  #hdf5 interface, used to load data\n",
        "from functools import partial #this lets us fix some of the variables in a fucntion call\n",
        "import pywt #python based wavelets\n",
        "from scipy.signal import convolve # convolution\n",
        "\n",
        "# Plotting\n",
        "import matplotlib.pyplot as plt\n",
        "from IPython import display\n",
        "\n",
        "#Cupy is CUDA software (slow to install)\n",
        "!pip install cupy\n",
        "\n",
        "# This gets SigPy from github and installs\n",
        "!git clone https://github.com/mikgroup/sigpy.git \n",
        "!pip install ./sigpy/  \n",
        "import sigpy as sp\n",
        "import sigpy.mri as mri\n"
      ],
      "execution_count": 0,
      "outputs": []
    },
    {
      "metadata": {
        "id": "7VEuyZ9zQCZP",
        "colab_type": "text"
      },
      "cell_type": "markdown",
      "source": [
        "We are going to download some very simple data, which has:\n",
        "*   Maps : Sensitivity maps [18 x 256 x 256]\n",
        "*   Image : Raw image [ 256 x 256 ]\n",
        "\n",
        "Data is in the hdf5 format with just those two entries. \n"
      ]
    },
    {
      "metadata": {
        "id": "xlNHW-spBIvv",
        "colab_type": "code",
        "colab": {}
      },
      "cell_type": "code",
      "source": [
        "# Download from a web location\n",
        "!wget http://medphysics.wisc.edu/~kmjohnso/simple_MRI_data.h5\n",
        "  \n",
        "# Data is in hdf5 which we read in here\n",
        "filename = 'simple_MRI_data.h5'\n",
        "f = h5py.File(filename, 'r')\n",
        "Image = np.array(f['Image'])\n",
        "Maps = np.array(f['Maps'])\n",
        "\n",
        "#Convert to float32 for faster processing\n",
        "Image = Image.astype(np.complex64)\n",
        "Maps = Maps.astype(np.complex64)\n"
      ],
      "execution_count": 0,
      "outputs": []
    },
    {
      "metadata": {
        "id": "6qMrkmSzQO1S",
        "colab_type": "text"
      },
      "cell_type": "markdown",
      "source": [
        "Lets make up a k-space trajectory, here I'm making a spiral or radial trajectory, that's pretty unrealistic. "
      ]
    },
    {
      "metadata": {
        "id": "NJ0tG8WW2VpB",
        "colab_type": "code",
        "colab": {}
      },
      "cell_type": "code",
      "source": [
        "Narms = 20\n",
        "Kmax = 128\n",
        "Npts = 512\n",
        "Rot = 1*math.pi*2*2\n",
        "VD = 1\n",
        "\n",
        "# Create a K-space Samppling (Spiral)\n",
        "kr_range = np.linspace(0,1,Npts)\n",
        "theta_range = np.linspace(0,2*math.pi,Narms+1)\n",
        "theta_range = theta_range[:-1]\n",
        "kr,theta = np.meshgrid(kr_range,theta_range);\n",
        "\n",
        "#Spiral formulation\n",
        "k_complex = Kmax*np.power(kr,VD)*np.exp(1j*kr*Rot)*np.exp(1j*theta)\n",
        "\n",
        "# Parse complex into kx,ky\n",
        "kx = np.real(k_complex)\n",
        "ky = np.imag(k_complex)\n",
        "\n",
        "plt.figure()\n",
        "plt.plot(kx.transpose(),ky.transpose(),'-*')\n",
        "plt.show()\n",
        "\n",
        "# Get in format for CuPy\n",
        "coord = np.stack((kx,ky),-1)\n",
        "coord.shape\n",
        "dcf = np.abs(k_complex)"
      ],
      "execution_count": 0,
      "outputs": []
    },
    {
      "metadata": {
        "id": "eh82_kDDrzS1",
        "colab_type": "text"
      },
      "cell_type": "markdown",
      "source": [
        "The below is used to transform the data from image domain to k-space."
      ]
    },
    {
      "metadata": {
        "id": "wFL8m6Eh5tKt",
        "colab_type": "code",
        "colab": {}
      },
      "cell_type": "code",
      "source": [
        "# Device 0 is GPU:0\n",
        "device = sp.Device(0)\n",
        "\n",
        "# In SigPy we need to push the data to a device (GPU)\n",
        "coord = sp.to_device(coord, device=device)\n",
        "image_gpu = sp.to_device(Image, device=device)\n",
        "dcf_gpu = sp.to_device(dcf, device=device)\n",
        "smaps_gpu = sp.to_device(Maps, device=device)\n",
        "\n",
        "print('DCF shape ', dcf_gpu.shape)\n",
        "print('Coord shape ', coord.shape)\n",
        "print('Image shape', image_gpu.shape)\n",
        "print('Smaps shape', smaps_gpu.shape)\n",
        "\n",
        "with device:\n",
        "    # Create A which is a lineary operator\n",
        "    A = sp.mri.linop.Sense(smaps_gpu, coord=coord, coil_batch_size=None)\n",
        "    \n",
        "    print('A is a operator of shape:')\n",
        "    print(A)\n",
        "    print('A is a stack of NUFFT and multiply:')\n",
        "    print(A.linops)\n",
        "    \n",
        "    # This now runs the operator setup above to get simulated k-space\n",
        "    k_space = A.apply(image_gpu)\n",
        "   \n",
        "    # Lets add noise since this is simulated\n",
        "    nl = 5e-4 * device.xp.max(device.xp.abs(k_space))\n",
        "    k_space += nl * device.xp.random.standard_normal(k_space.shape)\n",
        "    k_space += nl * 1j * device.xp.random.standard_normal(k_space.shape)"
      ],
      "execution_count": 0,
      "outputs": []
    },
    {
      "metadata": {
        "id": "SH9EiJqw_EuL",
        "colab_type": "code",
        "colab": {}
      },
      "cell_type": "code",
      "source": [
        "# Transfer back to CPU so we can plot\n",
        "k_space_cpu = sp.to_device(k_space, device=sp.cpu_device)\n",
        "\n",
        "# Simple plot using Matplotlib\n",
        "plt.figure()\n",
        "plt.plot(np.abs(k_space_cpu[0,:,:]).transpose())\n",
        "plt.show()"
      ],
      "execution_count": 0,
      "outputs": []
    },
    {
      "metadata": {
        "id": "z0J27KhksTDx",
        "colab_type": "code",
        "colab": {}
      },
      "cell_type": "code",
      "source": [
        "with device:\n",
        "\n",
        "    # Create a SENSE operator\n",
        "    sense = sp.mri.app.SenseRecon(k_space, mps=smaps_gpu, weights=dcf_gpu, coord=coord, device=device, max_iter=60,\n",
        "                                      coil_batch_size=None)\n",
        "    # Run SENSE operator \n",
        "    image_sense = sense.run()\n",
        "    \n",
        "    # Create SENSE + L1 Wavelet penalty\n",
        "    lam = 0.1\n",
        "    l1wavelet = sp.mri.app.L1WaveletRecon(k_space, mps=smaps_gpu, lamda=lam, weights=dcf_gpu, coord=coord,\n",
        "                                              device=device, accelerate=True, coil_batch_size=None, max_iter=200)\n",
        "    # Run L1 wavelet penalty \n",
        "    image_l1wavelet = l1wavelet.run()\n",
        "    \n",
        "    # Create SENSE + TotalVariation\n",
        "    lam = 0.1\n",
        "    tv = sp.mri.app.TotalVariationRecon(k_space, mps=smaps_gpu, lamda=lam, weights=dcf_gpu, coord=coord,\n",
        "                                               device=device, accelerate=True, coil_batch_size=None, max_iter=200)\n",
        "    # Run total variation\n",
        "    image_tv = tv.run()\n",
        "    \n",
        "# Put back onto CPU for visualization\n",
        "image_tv = sp.to_device(image_tv, sp.cpu_device)\n",
        "image_sense = sp.to_device(image_sense, sp.cpu_device)\n",
        "image_l1wavelet = sp.to_device(image_l1wavelet, sp.cpu_device)"
      ],
      "execution_count": 0,
      "outputs": []
    },
    {
      "metadata": {
        "id": "AGzM735yHgSI",
        "colab_type": "code",
        "colab": {}
      },
      "cell_type": "code",
      "source": [
        ""
      ],
      "execution_count": 0,
      "outputs": []
    },
    {
      "metadata": {
        "id": "LTZsAya1MNBX",
        "colab_type": "code",
        "colab": {}
      },
      "cell_type": "code",
      "source": [
        "# Show the image\n",
        "plt.figure(figsize=(20,20))\n",
        "plt.subplot(221)\n",
        "plt.imshow(np.abs(image_tv.transpose()),cmap='gray')\n",
        "plt.axis('off')\n",
        "plt.title('Total Variation');\n",
        "\n",
        "plt.subplot(222)\n",
        "plt.imshow((np.abs(image_sense.transpose())),cmap='gray')\n",
        "plt.axis('off')\n",
        "plt.title('Sense');\n",
        "\n",
        "plt.subplot(223)\n",
        "plt.imshow((np.abs(image_l1wavelet.transpose())),cmap='gray')\n",
        "plt.axis('off')\n",
        "plt.title('L1 Wavelet');\n",
        "\n",
        "plt.subplot(224)\n",
        "plt.imshow((np.abs(Image.transpose())),cmap='gray')\n",
        "plt.axis('off')\n",
        "plt.title('Truth');\n",
        "\n",
        "plt.show()"
      ],
      "execution_count": 0,
      "outputs": []
    },
    {
      "metadata": {
        "id": "AQLJ37NGVrIi",
        "colab_type": "code",
        "colab": {}
      },
      "cell_type": "code",
      "source": [
        "# How to get sensitivity maps\n",
        "mps_ker_width=16\n",
        "ksp_calib_width=32\n",
        "lamda= 0.001\n",
        "\n",
        "# Small bug JSense wahts complex weights\n",
        "dcf_gpu_complex = dcf_gpu.astype(k_space.dtype)\n",
        "\n",
        "# Setup Jsense operator\n",
        "app = sp.mri.app.JsenseRecon(k_space,\n",
        "                             coord=coord, weights=dcf_gpu_complex,\n",
        "                             mps_ker_width=mps_ker_width,\n",
        "                             ksp_calib_width=ksp_calib_width,\n",
        "                             lamda=lamda,\n",
        "                             device=0,\n",
        "                             max_iter=60,\n",
        "                             max_inner_iter=10)\n",
        "\n",
        "# Run Jsense operator\n",
        "mps = app.run()"
      ],
      "execution_count": 0,
      "outputs": []
    },
    {
      "metadata": {
        "id": "suEs6FxOGgvg",
        "colab_type": "code",
        "colab": {}
      },
      "cell_type": "code",
      "source": [
        "# Show the images\n",
        "plt.figure(figsize=(10,10))\n",
        "for m in range(4):\n",
        "  for n in range(4):\n",
        "    plt.subplot(4,4,m*4+n+1)\n",
        "    plt.imshow(np.abs(mps[m*4+n,:,:]))\n",
        "plt.show()"
      ],
      "execution_count": 0,
      "outputs": []
    },
    {
      "metadata": {
        "id": "exMwIcQ_HjMO",
        "colab_type": "code",
        "colab": {}
      },
      "cell_type": "code",
      "source": [
        "with device:\n",
        "\n",
        "    sense = sp.mri.app.SenseRecon(k_space, mps=mps, weights=dcf_gpu, coord=coord, device=device, max_iter=60,\n",
        "                                      coil_batch_size=None)\n",
        "    image_sense = sense.run()\n",
        "    \n",
        "    \n",
        "    lam = 0.1\n",
        "    l1wavelet = sp.mri.app.L1WaveletRecon(k_space, mps=mps, lamda=lam, weights=dcf_gpu, coord=coord,\n",
        "                                              device=device, accelerate=True, coil_batch_size=None, max_iter=200)\n",
        "    image_l1wavelet = l1wavelet.run()\n",
        "    \n",
        "    lam = 0.1\n",
        "    tv = sp.mri.app.TotalVariationRecon(k_space, mps=mps, lamda=lam, weights=dcf_gpu, coord=coord,\n",
        "                                               device=device, accelerate=True, coil_batch_size=None, max_iter=200)\n",
        "    image_tv = tv.run()\n",
        "    \n",
        "    \n",
        "image_tv = sp.to_device(image_tv, sp.cpu_device)\n",
        "image_sense = sp.to_device(image_sense, sp.cpu_device)\n",
        "image_l1wavelet = sp.to_device(image_l1wavelet, sp.cpu_device)"
      ],
      "execution_count": 0,
      "outputs": []
    },
    {
      "metadata": {
        "id": "TRhGbFEJHs6g",
        "colab_type": "code",
        "colab": {}
      },
      "cell_type": "code",
      "source": [
        "# Show the image\n",
        "plt.figure(figsize=(20,20))\n",
        "plt.subplot(221)\n",
        "plt.imshow(np.abs(image_tv.transpose()),cmap='gray')\n",
        "plt.axis('off')\n",
        "plt.title('Total Variation');\n",
        "\n",
        "plt.subplot(222)\n",
        "plt.imshow((np.abs(image_sense.transpose())),cmap='gray')\n",
        "plt.axis('off')\n",
        "plt.title('Sense');\n",
        "\n",
        "plt.subplot(223)\n",
        "plt.imshow((np.abs(image_l1wavelet.transpose())),cmap='gray')\n",
        "plt.axis('off')\n",
        "plt.title('L1 Wavelet');\n",
        "\n",
        "plt.subplot(224)\n",
        "plt.imshow((np.abs(Image.transpose())),cmap='gray')\n",
        "plt.axis('off')\n",
        "plt.title('Truth');\n",
        "\n",
        "plt.show()"
      ],
      "execution_count": 0,
      "outputs": []
    }
  ]
}